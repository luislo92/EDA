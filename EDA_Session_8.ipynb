{
 "cells": [
  {
   "cell_type": "markdown",
   "metadata": {},
   "source": [
    "# Outlier Detection Using iForest for Credit Card Data\n",
    "\n",
    "\n",
    "* Motivation:\n",
    "\n",
    "Following up on our last assigment using autoencoders to detect outliers, now I'll delve into another simpler but very efficient method for outlier detection: Isolation Forests. The PyOD library has special implemantion of the isolation forest algorithm that uses \n",
    "\n",
    "\n",
    "* Resources:\n",
    "        \n",
    "        *Modified Dataset on Credit Card Transactions.\n",
    "        *Outlier Detection Models.\n",
    "        *Visualization tools to determine thresholds.\n",
    "        \n",
    "* Methods:\n",
    "        \n",
    "        *PyOD Library to run an isolation forest algorithm.\n",
    "        *CrossValidate Results using Average and Maximization.\n",
    "        \n",
    "        \n",
    "* Objective:\n",
    "\n",
    "By using the already modified dataset on Credit Card Transaction Data identify which observations can be described as outliers and provide a brief description as to why the algorithm picked those."
   ]
  },
  {
   "cell_type": "code",
   "execution_count": 12,
   "metadata": {
    "collapsed": true,
    "pycharm": {
     "is_executing": false
    }
   },
   "outputs": [],
   "source": [
    "#Loading the Libraries\n",
    "import pandas as pd\n",
    "import os\n",
    "import numpy as np\n",
    "from pyod.models.iforest import IForest\n",
    "from sklearn.model_selection import train_test_split\n",
    "import matplotlib.pyplot as plt\n",
    "from pyod.models.combination import average, maximization\n",
    "from sklearn.preprocessing import StandardScaler\n",
    "from sklearn.decomposition import PCA"
   ]
  },
  {
   "cell_type": "code",
   "execution_count": 13,
   "metadata": {
    "pycharm": {
     "is_executing": false,
     "name": "#%%\n"
    }
   },
   "outputs": [],
   "source": [
    "#Setting up the Data\n",
    "os.chdir(\"/Users/luislosada/Columbia Drive/Anomaly Detection/Module 7\")\n",
    "flag_data = pd.read_csv(\"flag_aggregated_dataset.csv\",index_col=0).reset_index(drop=True)\n"
   ]
  },
  {
   "cell_type": "code",
   "execution_count": 14,
   "metadata": {
    "pycharm": {
     "is_executing": false,
     "name": "#%%\n"
    }
   },
   "outputs": [
    {
     "data": {
      "text/html": [
       "<div>\n",
       "<style scoped>\n",
       "    .dataframe tbody tr th:only-of-type {\n",
       "        vertical-align: middle;\n",
       "    }\n",
       "\n",
       "    .dataframe tbody tr th {\n",
       "        vertical-align: top;\n",
       "    }\n",
       "\n",
       "    .dataframe thead th {\n",
       "        text-align: right;\n",
       "    }\n",
       "</style>\n",
       "<table border=\"1\" class=\"dataframe\">\n",
       "  <thead>\n",
       "    <tr style=\"text-align: right;\">\n",
       "      <th></th>\n",
       "      <th>Flag_Pos_Neg_Mean</th>\n",
       "      <th>Flag_Ratio_of_Unique_Transactions_Mean</th>\n",
       "      <th>flag_amount_bin</th>\n",
       "      <th>flag_week_amount</th>\n",
       "      <th>flag_month_amount</th>\n",
       "    </tr>\n",
       "  </thead>\n",
       "  <tbody>\n",
       "    <tr>\n",
       "      <th>count</th>\n",
       "      <td>39886.000000</td>\n",
       "      <td>39886.000000</td>\n",
       "      <td>39886.000000</td>\n",
       "      <td>39886.000000</td>\n",
       "      <td>39886.000000</td>\n",
       "    </tr>\n",
       "    <tr>\n",
       "      <th>mean</th>\n",
       "      <td>0.001174</td>\n",
       "      <td>0.111329</td>\n",
       "      <td>0.000994</td>\n",
       "      <td>0.151595</td>\n",
       "      <td>0.067518</td>\n",
       "    </tr>\n",
       "    <tr>\n",
       "      <th>std</th>\n",
       "      <td>0.029430</td>\n",
       "      <td>0.299258</td>\n",
       "      <td>0.021926</td>\n",
       "      <td>0.293093</td>\n",
       "      <td>0.212029</td>\n",
       "    </tr>\n",
       "    <tr>\n",
       "      <th>min</th>\n",
       "      <td>0.000000</td>\n",
       "      <td>0.000000</td>\n",
       "      <td>0.000000</td>\n",
       "      <td>0.000000</td>\n",
       "      <td>0.000000</td>\n",
       "    </tr>\n",
       "    <tr>\n",
       "      <th>25%</th>\n",
       "      <td>0.000000</td>\n",
       "      <td>0.000000</td>\n",
       "      <td>0.000000</td>\n",
       "      <td>0.000000</td>\n",
       "      <td>0.000000</td>\n",
       "    </tr>\n",
       "    <tr>\n",
       "      <th>50%</th>\n",
       "      <td>0.000000</td>\n",
       "      <td>0.000000</td>\n",
       "      <td>0.000000</td>\n",
       "      <td>0.000000</td>\n",
       "      <td>0.000000</td>\n",
       "    </tr>\n",
       "    <tr>\n",
       "      <th>75%</th>\n",
       "      <td>0.000000</td>\n",
       "      <td>0.000000</td>\n",
       "      <td>0.000000</td>\n",
       "      <td>0.160000</td>\n",
       "      <td>0.000000</td>\n",
       "    </tr>\n",
       "    <tr>\n",
       "      <th>max</th>\n",
       "      <td>1.000000</td>\n",
       "      <td>1.000000</td>\n",
       "      <td>1.000000</td>\n",
       "      <td>1.000000</td>\n",
       "      <td>1.000000</td>\n",
       "    </tr>\n",
       "  </tbody>\n",
       "</table>\n",
       "</div>"
      ],
      "text/plain": [
       "       Flag_Pos_Neg_Mean  Flag_Ratio_of_Unique_Transactions_Mean  \\\n",
       "count       39886.000000                            39886.000000   \n",
       "mean            0.001174                                0.111329   \n",
       "std             0.029430                                0.299258   \n",
       "min             0.000000                                0.000000   \n",
       "25%             0.000000                                0.000000   \n",
       "50%             0.000000                                0.000000   \n",
       "75%             0.000000                                0.000000   \n",
       "max             1.000000                                1.000000   \n",
       "\n",
       "       flag_amount_bin  flag_week_amount  flag_month_amount  \n",
       "count     39886.000000      39886.000000       39886.000000  \n",
       "mean          0.000994          0.151595           0.067518  \n",
       "std           0.021926          0.293093           0.212029  \n",
       "min           0.000000          0.000000           0.000000  \n",
       "25%           0.000000          0.000000           0.000000  \n",
       "50%           0.000000          0.000000           0.000000  \n",
       "75%           0.000000          0.160000           0.000000  \n",
       "max           1.000000          1.000000           1.000000  "
      ]
     },
     "execution_count": 14,
     "metadata": {},
     "output_type": "execute_result"
    }
   ],
   "source": [
    "flag_data.iloc[:,3:].describe()"
   ]
  },
  {
   "cell_type": "code",
   "execution_count": 87,
   "metadata": {
    "pycharm": {
     "is_executing": false,
     "name": "#%%\n"
    }
   },
   "outputs": [],
   "source": [
    "#Splitting the Data to test the results of the iForest\n",
    "X_train, X_test = train_test_split(flag_data.iloc[:,3:], test_size=0.2)\n"
   ]
  },
  {
   "cell_type": "markdown",
   "metadata": {},
   "source": [
    "### Isolation Forest\n",
    "\n",
    "Isolation forest is based on the basis of a random forest algorithm and its objective is to determine scores for each observation based on how far or how close from the root node in a tree the observation is isolated. Because of its simplicity and the fact that it does not rely on density or distance measures to detect outliers then this method is usually very fast and requires less computational power than other methods all while still being very accurate at detecting outliers. For this assignment I will use three iForest combination of parameters to determine outliers and then compare the results to select my suspects.\n",
    "\n",
    "More on iForest [here]('https://cs.nju.edu.cn/zhouzh/zhouzh.files/publication/tkdd11.pdf')."
   ]
  },
  {
   "cell_type": "code",
   "execution_count": 16,
   "metadata": {
    "pycharm": {
     "is_executing": false,
     "name": "#%%\n"
    }
   },
   "outputs": [
    {
     "data": {
      "text/plain": [
       "IForest(behaviour='new', bootstrap=False, contamination=0.1, max_features=1.0,\n",
       "    max_samples=100, n_estimators=100, n_jobs=1, random_state=None,\n",
       "    verbose=0)"
      ]
     },
     "execution_count": 16,
     "metadata": {},
     "output_type": "execute_result"
    }
   ],
   "source": [
    "clf1 = IForest(behaviour=\"new\", max_samples=100) \n",
    "clf1.fit(X_train)"
   ]
  },
  {
   "cell_type": "code",
   "execution_count": 33,
   "metadata": {
    "pycharm": {
     "is_executing": false,
     "name": "#%%\n"
    }
   },
   "outputs": [
    {
     "data": {
      "text/plain": [
       "0   -0.151996\n",
       "1   -0.234858\n",
       "2   -0.234858\n",
       "3    0.033127\n",
       "4   -0.234858\n",
       "dtype: float64"
      ]
     },
     "execution_count": 33,
     "metadata": {},
     "output_type": "execute_result"
    }
   ],
   "source": [
    "y_test_scores = clf1.decision_function(X_test)  # outlier scores\n",
    "y_test_scores = pd.Series(y_test_scores)\n",
    "y_test_scores.head()\n",
    "\n",
    "#y_test_pred.value_counts()\n"
   ]
  },
  {
   "cell_type": "code",
   "execution_count": 18,
   "metadata": {
    "pycharm": {
     "is_executing": false,
     "name": "#%%\n"
    }
   },
   "outputs": [
    {
     "data": {
      "text/plain": [
       "count    7978.000000\n",
       "mean       -0.144248\n",
       "std         0.111988\n",
       "min        -0.234858\n",
       "25%        -0.234858\n",
       "50%        -0.234858\n",
       "75%        -0.028089\n",
       "max         0.197577\n",
       "dtype: float64"
      ]
     },
     "execution_count": 18,
     "metadata": {},
     "output_type": "execute_result"
    }
   ],
   "source": [
    "y_test_scores.describe()"
   ]
  },
  {
   "cell_type": "code",
   "execution_count": 19,
   "metadata": {
    "pycharm": {
     "is_executing": false,
     "name": "#%%\n"
    }
   },
   "outputs": [
    {
     "data": {
      "image/png": "[encoded data removed]",
      "text/plain": [
       "<Figure size 432x288 with 1 Axes>"
      ]
     },
     "metadata": {
      "needs_background": "light"
     },
     "output_type": "display_data"
    }
   ],
   "source": [
    "plt.hist(y_test_scores,bins='auto')  \n",
    "plt.title(\"Histogram for Model Clf1 Anomaly Scores\")\n",
    "plt.xlim(-0.2, 0.2)\n",
    "plt.ylim(0,1300)\n",
    "plt.show()\n"
   ]
  },
  {
   "cell_type": "markdown",
   "metadata": {},
   "source": [
    "We can see that most values fall between -0.20 and 0.20 and the rest of the values seem to be farther off. Lets create a threshold so that anything above 0.20 ore below -0.20 is flagged as an outlier."
   ]
  },
  {
   "cell_type": "code",
   "execution_count": 57,
   "metadata": {
    "pycharm": {
     "is_executing": false,
     "name": "#%%\n"
    }
   },
   "outputs": [
    {
     "data": {
      "text/plain": [
       "0    7172\n",
       "1     806\n",
       "Name: cluster, dtype: int64"
      ]
     },
     "execution_count": 57,
     "metadata": {},
     "output_type": "execute_result"
    }
   ],
   "source": [
    "df_test = X_test.copy().reset_index(drop=True)\n",
    "df_test['distance'] = y_test_scores\n",
    "df_test['cluster'] = np.where((df_test['distance']<0.0) , 0, 1)\n",
    "df_test['cluster'].value_counts()\n"
   ]
  },
  {
   "cell_type": "code",
   "execution_count": 58,
   "metadata": {},
   "outputs": [
    {
     "data": {
      "text/html": [
       "<div>\n",
       "<style scoped>\n",
       "    .dataframe tbody tr th:only-of-type {\n",
       "        vertical-align: middle;\n",
       "    }\n",
       "\n",
       "    .dataframe tbody tr th {\n",
       "        vertical-align: top;\n",
       "    }\n",
       "\n",
       "    .dataframe thead th {\n",
       "        text-align: right;\n",
       "    }\n",
       "</style>\n",
       "<table border=\"1\" class=\"dataframe\">\n",
       "  <thead>\n",
       "    <tr style=\"text-align: right;\">\n",
       "      <th></th>\n",
       "      <th>Flag_Pos_Neg_Mean</th>\n",
       "      <th>Flag_Ratio_of_Unique_Transactions_Mean</th>\n",
       "      <th>flag_amount_bin</th>\n",
       "      <th>flag_week_amount</th>\n",
       "      <th>flag_month_amount</th>\n",
       "      <th>distance</th>\n",
       "      <th>cluster</th>\n",
       "    </tr>\n",
       "  </thead>\n",
       "  <tbody>\n",
       "    <tr>\n",
       "      <th>0</th>\n",
       "      <td>0.0</td>\n",
       "      <td>0.0</td>\n",
       "      <td>0.0</td>\n",
       "      <td>0.166667</td>\n",
       "      <td>0.0</td>\n",
       "      <td>-0.151996</td>\n",
       "      <td>0</td>\n",
       "    </tr>\n",
       "    <tr>\n",
       "      <th>1</th>\n",
       "      <td>0.0</td>\n",
       "      <td>0.0</td>\n",
       "      <td>0.0</td>\n",
       "      <td>0.000000</td>\n",
       "      <td>0.0</td>\n",
       "      <td>-0.234858</td>\n",
       "      <td>0</td>\n",
       "    </tr>\n",
       "    <tr>\n",
       "      <th>2</th>\n",
       "      <td>0.0</td>\n",
       "      <td>0.0</td>\n",
       "      <td>0.0</td>\n",
       "      <td>0.000000</td>\n",
       "      <td>0.0</td>\n",
       "      <td>-0.234858</td>\n",
       "      <td>0</td>\n",
       "    </tr>\n",
       "    <tr>\n",
       "      <th>3</th>\n",
       "      <td>0.0</td>\n",
       "      <td>0.0</td>\n",
       "      <td>0.0</td>\n",
       "      <td>0.500000</td>\n",
       "      <td>0.5</td>\n",
       "      <td>0.033127</td>\n",
       "      <td>1</td>\n",
       "    </tr>\n",
       "    <tr>\n",
       "      <th>4</th>\n",
       "      <td>0.0</td>\n",
       "      <td>0.0</td>\n",
       "      <td>0.0</td>\n",
       "      <td>0.000000</td>\n",
       "      <td>0.0</td>\n",
       "      <td>-0.234858</td>\n",
       "      <td>0</td>\n",
       "    </tr>\n",
       "  </tbody>\n",
       "</table>\n",
       "</div>"
      ],
      "text/plain": [
       "   Flag_Pos_Neg_Mean  Flag_Ratio_of_Unique_Transactions_Mean  flag_amount_bin  \\\n",
       "0                0.0                                     0.0              0.0   \n",
       "1                0.0                                     0.0              0.0   \n",
       "2                0.0                                     0.0              0.0   \n",
       "3                0.0                                     0.0              0.0   \n",
       "4                0.0                                     0.0              0.0   \n",
       "\n",
       "   flag_week_amount  flag_month_amount  distance  cluster  \n",
       "0          0.166667                0.0 -0.151996        0  \n",
       "1          0.000000                0.0 -0.234858        0  \n",
       "2          0.000000                0.0 -0.234858        0  \n",
       "3          0.500000                0.5  0.033127        1  \n",
       "4          0.000000                0.0 -0.234858        0  "
      ]
     },
     "execution_count": 58,
     "metadata": {},
     "output_type": "execute_result"
    }
   ],
   "source": [
    "df_test.head()"
   ]
  },
  {
   "cell_type": "code",
   "execution_count": 59,
   "metadata": {
    "pycharm": {
     "is_executing": false,
     "name": "#%%\n"
    }
   },
   "outputs": [
    {
     "data": {
      "text/html": [
       "<div>\n",
       "<style scoped>\n",
       "    .dataframe tbody tr th:only-of-type {\n",
       "        vertical-align: middle;\n",
       "    }\n",
       "\n",
       "    .dataframe tbody tr th {\n",
       "        vertical-align: top;\n",
       "    }\n",
       "\n",
       "    .dataframe thead th {\n",
       "        text-align: right;\n",
       "    }\n",
       "</style>\n",
       "<table border=\"1\" class=\"dataframe\">\n",
       "  <thead>\n",
       "    <tr style=\"text-align: right;\">\n",
       "      <th></th>\n",
       "      <th>Flag_Pos_Neg_Mean</th>\n",
       "      <th>Flag_Ratio_of_Unique_Transactions_Mean</th>\n",
       "      <th>flag_amount_bin</th>\n",
       "      <th>flag_week_amount</th>\n",
       "      <th>flag_month_amount</th>\n",
       "      <th>distance</th>\n",
       "    </tr>\n",
       "    <tr>\n",
       "      <th>cluster</th>\n",
       "      <th></th>\n",
       "      <th></th>\n",
       "      <th></th>\n",
       "      <th></th>\n",
       "      <th></th>\n",
       "      <th></th>\n",
       "    </tr>\n",
       "  </thead>\n",
       "  <tbody>\n",
       "    <tr>\n",
       "      <th>0</th>\n",
       "      <td>0.000717</td>\n",
       "      <td>0.087252</td>\n",
       "      <td>0.000424</td>\n",
       "      <td>0.107913</td>\n",
       "      <td>0.016072</td>\n",
       "      <td>-0.169242</td>\n",
       "    </tr>\n",
       "    <tr>\n",
       "      <th>1</th>\n",
       "      <td>0.012609</td>\n",
       "      <td>0.330857</td>\n",
       "      <td>0.001838</td>\n",
       "      <td>0.479520</td>\n",
       "      <td>0.522536</td>\n",
       "      <td>0.078151</td>\n",
       "    </tr>\n",
       "  </tbody>\n",
       "</table>\n",
       "</div>"
      ],
      "text/plain": [
       "         Flag_Pos_Neg_Mean  Flag_Ratio_of_Unique_Transactions_Mean  \\\n",
       "cluster                                                              \n",
       "0                 0.000717                                0.087252   \n",
       "1                 0.012609                                0.330857   \n",
       "\n",
       "         flag_amount_bin  flag_week_amount  flag_month_amount  distance  \n",
       "cluster                                                                  \n",
       "0               0.000424          0.107913           0.016072 -0.169242  \n",
       "1               0.001838          0.479520           0.522536  0.078151  "
      ]
     },
     "execution_count": 59,
     "metadata": {},
     "output_type": "execute_result"
    }
   ],
   "source": [
    "df_test.groupby('cluster').mean()\n"
   ]
  },
  {
   "cell_type": "markdown",
   "metadata": {},
   "source": [
    "We can see the huge spread between the cluster classified as normal and the cluster classified as outlier. The average distance is more than 0.25 points off. It seems then that the cutoff point at 0.20 was the right choice.\n",
    "\n",
    "Lets now test this theory by using different parameters for the algorithm."
   ]
  },
  {
   "cell_type": "code",
   "execution_count": 61,
   "metadata": {},
   "outputs": [
    {
     "data": {
      "image/png": "[encoded data removed]",
      "text/plain": [
       "<Figure size 1080x1080 with 1 Axes>"
      ]
     },
     "metadata": {
      "needs_background": "light"
     },
     "output_type": "display_data"
    }
   ],
   "source": [
    "pca = PCA(2)\n",
    "pca.fit(df_test.iloc[:,0:4])\n",
    "\n",
    "res = pd.DataFrame({'pca_1':pca.transform(df_test.iloc[:,0:4])[:,0],\n",
    " 'pca_2':pca.transform(df_test.iloc[:,0:4])[:,1],\n",
    " 'cluster':df_test.loc[:,'cluster']}).reset_index(drop=True)\n",
    "\n",
    "#Plotting\n",
    "plt.figure(figsize=(15,15))\n",
    "\n",
    "plt.title(\"IsolationForest 100 Samples\")\n",
    "plt.scatter(res[res.cluster==0].iloc[:,0], res[res.cluster==0].iloc[:,1], c='green',\n",
    "                 s=20,label=\"normal points\")\n",
    "plt.scatter(res[res.cluster==1].iloc[:,0], res[res.cluster==1].iloc[:,1], c='red',\n",
    "                 s=20,label=\"predicted outliers\")\n",
    "plt.xlabel('PCA_1')\n",
    "plt.ylabel('PCA_2')\n",
    "\n",
    "\n",
    "plt.legend(loc=\"upper right\")\n",
    "plt.show()\n"
   ]
  },
  {
   "cell_type": "code",
   "execution_count": 62,
   "metadata": {
    "pycharm": {
     "is_executing": false,
     "name": "#%%\n"
    }
   },
   "outputs": [],
   "source": [
    "clf2 = IForest(behaviour=\"new\", max_samples=80) \n",
    "clf2.fit(X_train)\n",
    "y_test_scores_2 = clf2.decision_function(X_test)  # outlier scores\n",
    "y_test_scores_2 = pd.Series(y_test_scores_2)\n"
   ]
  },
  {
   "cell_type": "code",
   "execution_count": 64,
   "metadata": {},
   "outputs": [
    {
     "data": {
      "image/png": "[encoded data removed]",
      "text/plain": [
       "<Figure size 1080x1080 with 1 Axes>"
      ]
     },
     "metadata": {
      "needs_background": "light"
     },
     "output_type": "display_data"
    }
   ],
   "source": [
    "df_test_2 = X_test.copy().reset_index(drop=True)\n",
    "df_test_2['distance'] = y_test_scores_2\n",
    "df_test_2['cluster'] = np.where(df_test_2['distance']<0.0, 0, 1)\n",
    "\n",
    "res = pd.DataFrame({'pca_1':pca.transform(df_test_2.iloc[:,0:4])[:,0],\n",
    " 'pca_2':pca.transform(df_test_2.iloc[:,0:4])[:,1],\n",
    " 'cluster':df_test_2.loc[:,'cluster']}).reset_index(drop=True)\n",
    "\n",
    "#Plotting\n",
    "plt.figure(figsize=(15,15))\n",
    "\n",
    "plt.title(\"IsolationForest 80 Samples\")\n",
    "plt.scatter(res[res.cluster==0].iloc[:,0], res[res.cluster==0].iloc[:,1], c='green',\n",
    "                 s=20,label=\"normal points\")\n",
    "plt.scatter(res[res.cluster==1].iloc[:,0], res[res.cluster==1].iloc[:,1], c='red',\n",
    "                 s=20,label=\"predicted outliers\")\n",
    "plt.xlabel('PCA_1')\n",
    "plt.ylabel('PCA_2')\n",
    "\n",
    "\n",
    "plt.legend(loc=\"upper right\")\n",
    "plt.show()"
   ]
  },
  {
   "cell_type": "code",
   "execution_count": 54,
   "metadata": {
    "pycharm": {
     "is_executing": false,
     "name": "#%%\n"
    }
   },
   "outputs": [],
   "source": [
    "clf3 = IForest(behaviour=\"new\", max_samples=60) \n",
    "clf3.fit(X_train)\n",
    "y_test_scores_3 = clf3.decision_function(X_test)  # outlier scores\n",
    "y_test_scores_3 = pd.Series(y_test_scores_3)\n"
   ]
  },
  {
   "cell_type": "code",
   "execution_count": 65,
   "metadata": {},
   "outputs": [
    {
     "data": {
      "image/png": "[encoded data removed]",
      "text/plain": [
       "<Figure size 1080x1080 with 1 Axes>"
      ]
     },
     "metadata": {
      "needs_background": "light"
     },
     "output_type": "display_data"
    }
   ],
   "source": [
    "df_test_3 = X_test.copy().reset_index(drop=True)\n",
    "df_test_3['distance'] = y_test_scores_3\n",
    "df_test_3['cluster'] = np.where(df_test_3['distance']<0.0, 0, 1)\n",
    "\n",
    "res = pd.DataFrame({'pca_1':pca.transform(df_test_3.iloc[:,0:4])[:,0],\n",
    " 'pca_2':pca.transform(df_test_3.iloc[:,0:4])[:,1],\n",
    " 'cluster':df_test_3.loc[:,'cluster']}).reset_index(drop=True)\n",
    "\n",
    "#Plotting\n",
    "plt.figure(figsize=(15,15))\n",
    "\n",
    "plt.title(\"IsolationForest 60 Samples\")\n",
    "plt.scatter(res[res.cluster==0].iloc[:,0], res[res.cluster==0].iloc[:,1], c='green',\n",
    "                 s=20,label=\"normal points\")\n",
    "plt.scatter(res[res.cluster==1].iloc[:,0], res[res.cluster==1].iloc[:,1], c='red',\n",
    "                 s=20,label=\"predicted outliers\")\n",
    "plt.xlabel('PCA_1')\n",
    "plt.ylabel('PCA_2')\n",
    "\n",
    "\n",
    "plt.legend(loc=\"upper right\")\n",
    "plt.show()"
   ]
  },
  {
   "cell_type": "markdown",
   "metadata": {},
   "source": [
    "#### Highlights\n",
    "A couple of things to observe:\n",
    "\n",
    "- Because this measures the distance from the root to the terminal node of each observation then observations that share the same charactericts also share the same scores.\n",
    "- The value -0.23... seems to repeat itself quite a lot. The reason for this is that observations with no flags will then be identical obsrvations for the purpose of this algorithm and thus produce the same results.\n",
    "- Most values fall into the negative side of the score which means that outliers are most likely to appear when values go above 0."
   ]
  },
  {
   "cell_type": "markdown",
   "metadata": {},
   "source": [
    "#### Validating Results\n",
    "\n",
    "Now lets see if the split between train and trest and the scores of all three algorithm make sense before continuing forward."
   ]
  },
  {
   "cell_type": "code",
   "execution_count": 70,
   "metadata": {
    "pycharm": {
     "is_executing": false,
     "name": "#%%\n"
    }
   },
   "outputs": [
    {
     "data": {
      "text/html": [
       "<div>\n",
       "<style scoped>\n",
       "    .dataframe tbody tr th:only-of-type {\n",
       "        vertical-align: middle;\n",
       "    }\n",
       "\n",
       "    .dataframe tbody tr th {\n",
       "        vertical-align: top;\n",
       "    }\n",
       "\n",
       "    .dataframe thead th {\n",
       "        text-align: right;\n",
       "    }\n",
       "</style>\n",
       "<table border=\"1\" class=\"dataframe\">\n",
       "  <thead>\n",
       "    <tr style=\"text-align: right;\">\n",
       "      <th></th>\n",
       "      <th>clf1</th>\n",
       "      <th>clf2</th>\n",
       "      <th>clf3</th>\n",
       "    </tr>\n",
       "  </thead>\n",
       "  <tbody>\n",
       "    <tr>\n",
       "      <th>count</th>\n",
       "      <td>31908.000000</td>\n",
       "      <td>31908.000000</td>\n",
       "      <td>31908.000000</td>\n",
       "    </tr>\n",
       "    <tr>\n",
       "      <th>mean</th>\n",
       "      <td>-0.142807</td>\n",
       "      <td>-0.155469</td>\n",
       "      <td>-0.146316</td>\n",
       "    </tr>\n",
       "    <tr>\n",
       "      <th>std</th>\n",
       "      <td>0.112228</td>\n",
       "      <td>0.120015</td>\n",
       "      <td>0.115685</td>\n",
       "    </tr>\n",
       "    <tr>\n",
       "      <th>min</th>\n",
       "      <td>-0.234858</td>\n",
       "      <td>-0.255492</td>\n",
       "      <td>-0.241778</td>\n",
       "    </tr>\n",
       "    <tr>\n",
       "      <th>25%</th>\n",
       "      <td>-0.234858</td>\n",
       "      <td>-0.255492</td>\n",
       "      <td>-0.241778</td>\n",
       "    </tr>\n",
       "    <tr>\n",
       "      <th>50%</th>\n",
       "      <td>-0.234858</td>\n",
       "      <td>-0.255492</td>\n",
       "      <td>-0.241778</td>\n",
       "    </tr>\n",
       "    <tr>\n",
       "      <th>75%</th>\n",
       "      <td>-0.028089</td>\n",
       "      <td>-0.027304</td>\n",
       "      <td>-0.029194</td>\n",
       "    </tr>\n",
       "    <tr>\n",
       "      <th>max</th>\n",
       "      <td>0.197577</td>\n",
       "      <td>0.177699</td>\n",
       "      <td>0.171577</td>\n",
       "    </tr>\n",
       "  </tbody>\n",
       "</table>\n",
       "</div>"
      ],
      "text/plain": [
       "               clf1          clf2          clf3\n",
       "count  31908.000000  31908.000000  31908.000000\n",
       "mean      -0.142807     -0.155469     -0.146316\n",
       "std        0.112228      0.120015      0.115685\n",
       "min       -0.234858     -0.255492     -0.241778\n",
       "25%       -0.234858     -0.255492     -0.241778\n",
       "50%       -0.234858     -0.255492     -0.241778\n",
       "75%       -0.028089     -0.027304     -0.029194\n",
       "max        0.197577      0.177699      0.171577"
      ]
     },
     "execution_count": 70,
     "metadata": {},
     "output_type": "execute_result"
    }
   ],
   "source": [
    "#Creating a dataset to compare results.\n",
    "train_scores = pd.DataFrame({'clf1': clf1.decision_scores_,\n",
    "                             'clf2': clf2.decision_scores_,\n",
    "                             'clf3': clf3.decision_scores_\n",
    "                            })\n",
    "\n",
    "test_scores  = pd.DataFrame({'clf1': clf1.decision_function(X_test),\n",
    "                             'clf2': clf2.decision_function(X_test),\n",
    "                             'clf3': clf3.decision_function(X_test) \n",
    "                            })\n",
    "train_scores.describe()"
   ]
  },
  {
   "cell_type": "code",
   "execution_count": 71,
   "metadata": {},
   "outputs": [
    {
     "data": {
      "text/html": [
       "<div>\n",
       "<style scoped>\n",
       "    .dataframe tbody tr th:only-of-type {\n",
       "        vertical-align: middle;\n",
       "    }\n",
       "\n",
       "    .dataframe tbody tr th {\n",
       "        vertical-align: top;\n",
       "    }\n",
       "\n",
       "    .dataframe thead th {\n",
       "        text-align: right;\n",
       "    }\n",
       "</style>\n",
       "<table border=\"1\" class=\"dataframe\">\n",
       "  <thead>\n",
       "    <tr style=\"text-align: right;\">\n",
       "      <th></th>\n",
       "      <th>clf1</th>\n",
       "      <th>clf2</th>\n",
       "      <th>clf3</th>\n",
       "    </tr>\n",
       "  </thead>\n",
       "  <tbody>\n",
       "    <tr>\n",
       "      <th>count</th>\n",
       "      <td>7978.000000</td>\n",
       "      <td>7978.000000</td>\n",
       "      <td>7978.000000</td>\n",
       "    </tr>\n",
       "    <tr>\n",
       "      <th>mean</th>\n",
       "      <td>-0.144248</td>\n",
       "      <td>-0.157232</td>\n",
       "      <td>-0.148037</td>\n",
       "    </tr>\n",
       "    <tr>\n",
       "      <th>std</th>\n",
       "      <td>0.111988</td>\n",
       "      <td>0.119531</td>\n",
       "      <td>0.115274</td>\n",
       "    </tr>\n",
       "    <tr>\n",
       "      <th>min</th>\n",
       "      <td>-0.234858</td>\n",
       "      <td>-0.255492</td>\n",
       "      <td>-0.241778</td>\n",
       "    </tr>\n",
       "    <tr>\n",
       "      <th>25%</th>\n",
       "      <td>-0.234858</td>\n",
       "      <td>-0.255492</td>\n",
       "      <td>-0.241778</td>\n",
       "    </tr>\n",
       "    <tr>\n",
       "      <th>50%</th>\n",
       "      <td>-0.234858</td>\n",
       "      <td>-0.255492</td>\n",
       "      <td>-0.241778</td>\n",
       "    </tr>\n",
       "    <tr>\n",
       "      <th>75%</th>\n",
       "      <td>-0.028089</td>\n",
       "      <td>-0.036443</td>\n",
       "      <td>-0.036718</td>\n",
       "    </tr>\n",
       "    <tr>\n",
       "      <th>max</th>\n",
       "      <td>0.197577</td>\n",
       "      <td>0.177699</td>\n",
       "      <td>0.171577</td>\n",
       "    </tr>\n",
       "  </tbody>\n",
       "</table>\n",
       "</div>"
      ],
      "text/plain": [
       "              clf1         clf2         clf3\n",
       "count  7978.000000  7978.000000  7978.000000\n",
       "mean     -0.144248    -0.157232    -0.148037\n",
       "std       0.111988     0.119531     0.115274\n",
       "min      -0.234858    -0.255492    -0.241778\n",
       "25%      -0.234858    -0.255492    -0.241778\n",
       "50%      -0.234858    -0.255492    -0.241778\n",
       "75%      -0.028089    -0.036443    -0.036718\n",
       "max       0.197577     0.177699     0.171577"
      ]
     },
     "execution_count": 71,
     "metadata": {},
     "output_type": "execute_result"
    }
   ],
   "source": [
    "test_scores.describe()"
   ]
  },
  {
   "cell_type": "markdown",
   "metadata": {},
   "source": [
    "#### Model Combination\n",
    "\n",
    "A great to validate the scores obtained is to combine the scores of the three models built. There are several techniques for this but in this case, I will use two methods:\n",
    "\n",
    "- Average: Which takes the average score of all three algorithms produced above and creates an aggregated score.\n",
    "- Max Score: Takes the max score of all three methods and outputs that score as the score for that observation.\n",
    "\n"
   ]
  },
  {
   "cell_type": "code",
   "execution_count": 73,
   "metadata": {
    "pycharm": {
     "is_executing": false,
     "name": "#%%\n"
    }
   },
   "outputs": [
    {
     "data": {
      "text/plain": [
       "count    7978.000000\n",
       "mean       -0.149839\n",
       "std         0.115386\n",
       "min        -0.244043\n",
       "25%        -0.244043\n",
       "50%        -0.244043\n",
       "75%        -0.035238\n",
       "max         0.182284\n",
       "dtype: float64"
      ]
     },
     "execution_count": 73,
     "metadata": {},
     "output_type": "execute_result"
    }
   ],
   "source": [
    "#Average using PyOD\n",
    "y_by_average = average(test_scores)\n",
    "pd.Series(y_by_average).describe()\n"
   ]
  },
  {
   "cell_type": "markdown",
   "metadata": {},
   "source": [
    "With this average score, we take into account the results of all models built and create an aggregated score, therefore reducing the chance of overfitting and underfitting the data."
   ]
  },
  {
   "cell_type": "code",
   "execution_count": 75,
   "metadata": {
    "pycharm": {
     "is_executing": false,
     "name": "#%%\n"
    }
   },
   "outputs": [
    {
     "data": {
      "image/png": "[encoded data removed]",
      "text/plain": [
       "<Figure size 432x288 with 1 Axes>"
      ]
     },
     "metadata": {
      "needs_background": "light"
     },
     "output_type": "display_data"
    }
   ],
   "source": [
    "plt.hist(y_by_average, bins='auto')  # arguments are passed to np.histogram\n",
    "plt.title(\"Combination by average\")\n",
    "plt.xlim(-.3, 0.2)\n",
    "plt.show()\n",
    "\n"
   ]
  },
  {
   "cell_type": "markdown",
   "metadata": {},
   "source": [
    "Just as expected, the results look pretty similar to the original set and there is big concentration of values at the -0.23 mark. It does seem that the outliers detected by the average method are trustworthy then."
   ]
  },
  {
   "cell_type": "code",
   "execution_count": 76,
   "metadata": {
    "pycharm": {
     "is_executing": false,
     "name": "#%%\n"
    }
   },
   "outputs": [
    {
     "data": {
      "text/plain": [
       "0    7157\n",
       "1     821\n",
       "Name: y_by_average_cluster, dtype: int64"
      ]
     },
     "execution_count": 76,
     "metadata": {},
     "output_type": "execute_result"
    }
   ],
   "source": [
    "df_test = pd.DataFrame(X_test)\n",
    "df_test['y_by_average_score'] = y_by_average\n",
    "df_test['y_by_average_cluster'] = np.where(df_test['y_by_average_score']<0, 0, 1)\n",
    "df_test['y_by_average_cluster'].value_counts()\n"
   ]
  },
  {
   "cell_type": "code",
   "execution_count": 77,
   "metadata": {
    "pycharm": {
     "is_executing": false,
     "name": "#%%\n"
    }
   },
   "outputs": [
    {
     "data": {
      "text/html": [
       "<div>\n",
       "<style scoped>\n",
       "    .dataframe tbody tr th:only-of-type {\n",
       "        vertical-align: middle;\n",
       "    }\n",
       "\n",
       "    .dataframe tbody tr th {\n",
       "        vertical-align: top;\n",
       "    }\n",
       "\n",
       "    .dataframe thead th {\n",
       "        text-align: right;\n",
       "    }\n",
       "</style>\n",
       "<table border=\"1\" class=\"dataframe\">\n",
       "  <thead>\n",
       "    <tr style=\"text-align: right;\">\n",
       "      <th></th>\n",
       "      <th>Flag_Pos_Neg_Mean</th>\n",
       "      <th>Flag_Ratio_of_Unique_Transactions_Mean</th>\n",
       "      <th>flag_amount_bin</th>\n",
       "      <th>flag_week_amount</th>\n",
       "      <th>flag_month_amount</th>\n",
       "      <th>y_by_average_score</th>\n",
       "    </tr>\n",
       "    <tr>\n",
       "      <th>y_by_average_cluster</th>\n",
       "      <th></th>\n",
       "      <th></th>\n",
       "      <th></th>\n",
       "      <th></th>\n",
       "      <th></th>\n",
       "      <th></th>\n",
       "    </tr>\n",
       "  </thead>\n",
       "  <tbody>\n",
       "    <tr>\n",
       "      <th>0</th>\n",
       "      <td>0.000720</td>\n",
       "      <td>0.087941</td>\n",
       "      <td>0.000527</td>\n",
       "      <td>0.108765</td>\n",
       "      <td>0.014005</td>\n",
       "      <td>-0.174907</td>\n",
       "    </tr>\n",
       "    <tr>\n",
       "      <th>1</th>\n",
       "      <td>0.012364</td>\n",
       "      <td>0.320399</td>\n",
       "      <td>0.000914</td>\n",
       "      <td>0.465304</td>\n",
       "      <td>0.531307</td>\n",
       "      <td>0.068690</td>\n",
       "    </tr>\n",
       "  </tbody>\n",
       "</table>\n",
       "</div>"
      ],
      "text/plain": [
       "                      Flag_Pos_Neg_Mean  \\\n",
       "y_by_average_cluster                      \n",
       "0                              0.000720   \n",
       "1                              0.012364   \n",
       "\n",
       "                      Flag_Ratio_of_Unique_Transactions_Mean  flag_amount_bin  \\\n",
       "y_by_average_cluster                                                            \n",
       "0                                                   0.087941         0.000527   \n",
       "1                                                   0.320399         0.000914   \n",
       "\n",
       "                      flag_week_amount  flag_month_amount  y_by_average_score  \n",
       "y_by_average_cluster                                                           \n",
       "0                             0.108765           0.014005           -0.174907  \n",
       "1                             0.465304           0.531307            0.068690  "
      ]
     },
     "execution_count": 77,
     "metadata": {},
     "output_type": "execute_result"
    }
   ],
   "source": [
    "df_test.groupby('y_by_average_cluster').mean()\n"
   ]
  },
  {
   "cell_type": "markdown",
   "metadata": {},
   "source": [
    "The mean values of the outliers and non-outliers produces, again, a very big spread while also reducing the outliers to about 11% of the data. Lets try now with maximization and compare results."
   ]
  },
  {
   "cell_type": "code",
   "execution_count": 78,
   "metadata": {
    "pycharm": {
     "is_executing": false,
     "name": "#%%\n"
    }
   },
   "outputs": [
    {
     "data": {
      "text/plain": [
       "count    7978.000000\n",
       "mean       -0.139994\n",
       "std         0.116335\n",
       "min        -0.234858\n",
       "25%        -0.234858\n",
       "50%        -0.234858\n",
       "75%        -0.020989\n",
       "max         0.197577\n",
       "dtype: float64"
      ]
     },
     "execution_count": 78,
     "metadata": {},
     "output_type": "execute_result"
    }
   ],
   "source": [
    "y_by_maximization = maximization(test_scores)\n",
    "pd.Series(y_by_maximization).describe()\n"
   ]
  },
  {
   "cell_type": "code",
   "execution_count": 81,
   "metadata": {
    "pycharm": {
     "is_executing": false,
     "name": "#%%\n"
    }
   },
   "outputs": [
    {
     "data": {
      "image/png": "[encoded data removed]",
      "text/plain": [
       "<Figure size 432x288 with 1 Axes>"
      ]
     },
     "metadata": {
      "needs_background": "light"
     },
     "output_type": "display_data"
    }
   ],
   "source": [
    "plt.hist(y_by_maximization, bins='auto')  # arguments are passed to np.histogram\n",
    "plt.title(\"Combination by max\")\n",
    "plt.xlim(-0.3, 0.2)\n",
    "plt.show()\n"
   ]
  },
  {
   "cell_type": "code",
   "execution_count": 82,
   "metadata": {
    "pycharm": {
     "is_executing": false,
     "name": "#%%\n"
    }
   },
   "outputs": [
    {
     "data": {
      "text/plain": [
       "0    6587\n",
       "1    1391\n",
       "Name: y_by_maximization_cluster, dtype: int64"
      ]
     },
     "execution_count": 82,
     "metadata": {},
     "output_type": "execute_result"
    }
   ],
   "source": [
    "df_test['y_by_maximization_score'] = y_by_maximization\n",
    "df_test['y_by_maximization_cluster'] = np.where(df_test['y_by_maximization_score']<0, 0, 1)\n",
    "df_test['y_by_maximization_cluster'].value_counts()\n"
   ]
  },
  {
   "cell_type": "code",
   "execution_count": 83,
   "metadata": {
    "pycharm": {
     "is_executing": false,
     "name": "#%%\n"
    }
   },
   "outputs": [
    {
     "data": {
      "text/html": [
       "<div>\n",
       "<style scoped>\n",
       "    .dataframe tbody tr th:only-of-type {\n",
       "        vertical-align: middle;\n",
       "    }\n",
       "\n",
       "    .dataframe tbody tr th {\n",
       "        vertical-align: top;\n",
       "    }\n",
       "\n",
       "    .dataframe thead th {\n",
       "        text-align: right;\n",
       "    }\n",
       "</style>\n",
       "<table border=\"1\" class=\"dataframe\">\n",
       "  <thead>\n",
       "    <tr style=\"text-align: right;\">\n",
       "      <th></th>\n",
       "      <th>Flag_Pos_Neg_Mean</th>\n",
       "      <th>Flag_Ratio_of_Unique_Transactions_Mean</th>\n",
       "      <th>flag_amount_bin</th>\n",
       "      <th>flag_week_amount</th>\n",
       "      <th>flag_month_amount</th>\n",
       "      <th>y_by_average_score</th>\n",
       "      <th>y_by_average_cluster</th>\n",
       "      <th>y_by_maximization_score</th>\n",
       "    </tr>\n",
       "    <tr>\n",
       "      <th>y_by_maximization_cluster</th>\n",
       "      <th></th>\n",
       "      <th></th>\n",
       "      <th></th>\n",
       "      <th></th>\n",
       "      <th></th>\n",
       "      <th></th>\n",
       "      <th></th>\n",
       "      <th></th>\n",
       "    </tr>\n",
       "  </thead>\n",
       "  <tbody>\n",
       "    <tr>\n",
       "      <th>0</th>\n",
       "      <td>0.000781</td>\n",
       "      <td>0.013263</td>\n",
       "      <td>0.000462</td>\n",
       "      <td>0.116888</td>\n",
       "      <td>0.014484</td>\n",
       "      <td>-0.188651</td>\n",
       "      <td>0.000000</td>\n",
       "      <td>-0.179362</td>\n",
       "    </tr>\n",
       "    <tr>\n",
       "      <th>1</th>\n",
       "      <td>0.007306</td>\n",
       "      <td>0.578776</td>\n",
       "      <td>0.001065</td>\n",
       "      <td>0.280739</td>\n",
       "      <td>0.317058</td>\n",
       "      <td>0.033957</td>\n",
       "      <td>0.590223</td>\n",
       "      <td>0.046428</td>\n",
       "    </tr>\n",
       "  </tbody>\n",
       "</table>\n",
       "</div>"
      ],
      "text/plain": [
       "                           Flag_Pos_Neg_Mean  \\\n",
       "y_by_maximization_cluster                      \n",
       "0                                   0.000781   \n",
       "1                                   0.007306   \n",
       "\n",
       "                           Flag_Ratio_of_Unique_Transactions_Mean  \\\n",
       "y_by_maximization_cluster                                           \n",
       "0                                                        0.013263   \n",
       "1                                                        0.578776   \n",
       "\n",
       "                           flag_amount_bin  flag_week_amount  \\\n",
       "y_by_maximization_cluster                                      \n",
       "0                                 0.000462          0.116888   \n",
       "1                                 0.001065          0.280739   \n",
       "\n",
       "                           flag_month_amount  y_by_average_score  \\\n",
       "y_by_maximization_cluster                                          \n",
       "0                                   0.014484           -0.188651   \n",
       "1                                   0.317058            0.033957   \n",
       "\n",
       "                           y_by_average_cluster  y_by_maximization_score  \n",
       "y_by_maximization_cluster                                                 \n",
       "0                                      0.000000                -0.179362  \n",
       "1                                      0.590223                 0.046428  "
      ]
     },
     "execution_count": 83,
     "metadata": {},
     "output_type": "execute_result"
    }
   ],
   "source": [
    "df_test.groupby('y_by_maximization_cluster').mean()"
   ]
  },
  {
   "cell_type": "markdown",
   "metadata": {},
   "source": [
    "More outliers are identified by this method than the average score method. The reason being that for each observation the max score was picked which means that the values were skewed a little bit more towards the positive side allowing for more values to pass the threshold. "
   ]
  },
  {
   "cell_type": "markdown",
   "metadata": {},
   "source": [
    "### Capturing our Suspects\n",
    "\n",
    "Even thou the results of the average and max methods are not the same they do share most of the outliers of the set. I'll subset then for observations classified as outliers in both methods and picks those observations as my suspects."
   ]
  },
  {
   "cell_type": "code",
   "execution_count": 84,
   "metadata": {},
   "outputs": [
    {
     "data": {
      "text/html": [
       "<div>\n",
       "<style scoped>\n",
       "    .dataframe tbody tr th:only-of-type {\n",
       "        vertical-align: middle;\n",
       "    }\n",
       "\n",
       "    .dataframe tbody tr th {\n",
       "        vertical-align: top;\n",
       "    }\n",
       "\n",
       "    .dataframe thead th {\n",
       "        text-align: right;\n",
       "    }\n",
       "</style>\n",
       "<table border=\"1\" class=\"dataframe\">\n",
       "  <thead>\n",
       "    <tr style=\"text-align: right;\">\n",
       "      <th></th>\n",
       "      <th>Flag_Pos_Neg_Mean</th>\n",
       "      <th>Flag_Ratio_of_Unique_Transactions_Mean</th>\n",
       "      <th>flag_amount_bin</th>\n",
       "      <th>flag_week_amount</th>\n",
       "      <th>flag_month_amount</th>\n",
       "      <th>y_by_average_score</th>\n",
       "      <th>y_by_average_cluster</th>\n",
       "      <th>y_by_maximization_score</th>\n",
       "      <th>y_by_maximization_cluster</th>\n",
       "    </tr>\n",
       "  </thead>\n",
       "  <tbody>\n",
       "    <tr>\n",
       "      <th>34069</th>\n",
       "      <td>0.0</td>\n",
       "      <td>0.000000</td>\n",
       "      <td>0.0</td>\n",
       "      <td>0.500000</td>\n",
       "      <td>0.500000</td>\n",
       "      <td>0.035467</td>\n",
       "      <td>1</td>\n",
       "      <td>0.039247</td>\n",
       "      <td>1</td>\n",
       "    </tr>\n",
       "    <tr>\n",
       "      <th>8066</th>\n",
       "      <td>0.0</td>\n",
       "      <td>0.333333</td>\n",
       "      <td>0.0</td>\n",
       "      <td>0.000000</td>\n",
       "      <td>0.666667</td>\n",
       "      <td>0.090236</td>\n",
       "      <td>1</td>\n",
       "      <td>0.103594</td>\n",
       "      <td>1</td>\n",
       "    </tr>\n",
       "    <tr>\n",
       "      <th>33158</th>\n",
       "      <td>0.0</td>\n",
       "      <td>0.000000</td>\n",
       "      <td>0.0</td>\n",
       "      <td>1.000000</td>\n",
       "      <td>0.333333</td>\n",
       "      <td>0.050320</td>\n",
       "      <td>1</td>\n",
       "      <td>0.052677</td>\n",
       "      <td>1</td>\n",
       "    </tr>\n",
       "    <tr>\n",
       "      <th>22305</th>\n",
       "      <td>0.0</td>\n",
       "      <td>1.000000</td>\n",
       "      <td>0.0</td>\n",
       "      <td>1.000000</td>\n",
       "      <td>0.000000</td>\n",
       "      <td>0.097206</td>\n",
       "      <td>1</td>\n",
       "      <td>0.109477</td>\n",
       "      <td>1</td>\n",
       "    </tr>\n",
       "    <tr>\n",
       "      <th>30388</th>\n",
       "      <td>0.0</td>\n",
       "      <td>0.000000</td>\n",
       "      <td>0.0</td>\n",
       "      <td>0.000000</td>\n",
       "      <td>0.500000</td>\n",
       "      <td>0.003501</td>\n",
       "      <td>1</td>\n",
       "      <td>0.013345</td>\n",
       "      <td>1</td>\n",
       "    </tr>\n",
       "    <tr>\n",
       "      <th>31040</th>\n",
       "      <td>0.0</td>\n",
       "      <td>0.000000</td>\n",
       "      <td>0.0</td>\n",
       "      <td>1.000000</td>\n",
       "      <td>1.000000</td>\n",
       "      <td>0.125788</td>\n",
       "      <td>1</td>\n",
       "      <td>0.142961</td>\n",
       "      <td>1</td>\n",
       "    </tr>\n",
       "    <tr>\n",
       "      <th>9022</th>\n",
       "      <td>0.0</td>\n",
       "      <td>0.000000</td>\n",
       "      <td>0.0</td>\n",
       "      <td>0.291667</td>\n",
       "      <td>0.500000</td>\n",
       "      <td>0.022377</td>\n",
       "      <td>1</td>\n",
       "      <td>0.028619</td>\n",
       "      <td>1</td>\n",
       "    </tr>\n",
       "    <tr>\n",
       "      <th>39651</th>\n",
       "      <td>0.0</td>\n",
       "      <td>0.000000</td>\n",
       "      <td>0.0</td>\n",
       "      <td>1.000000</td>\n",
       "      <td>1.000000</td>\n",
       "      <td>0.125788</td>\n",
       "      <td>1</td>\n",
       "      <td>0.142961</td>\n",
       "      <td>1</td>\n",
       "    </tr>\n",
       "    <tr>\n",
       "      <th>32420</th>\n",
       "      <td>0.0</td>\n",
       "      <td>0.000000</td>\n",
       "      <td>0.0</td>\n",
       "      <td>0.500000</td>\n",
       "      <td>1.000000</td>\n",
       "      <td>0.085863</td>\n",
       "      <td>1</td>\n",
       "      <td>0.092642</td>\n",
       "      <td>1</td>\n",
       "    </tr>\n",
       "    <tr>\n",
       "      <th>5115</th>\n",
       "      <td>0.0</td>\n",
       "      <td>0.000000</td>\n",
       "      <td>0.0</td>\n",
       "      <td>0.142857</td>\n",
       "      <td>0.714286</td>\n",
       "      <td>0.042453</td>\n",
       "      <td>1</td>\n",
       "      <td>0.048253</td>\n",
       "      <td>1</td>\n",
       "    </tr>\n",
       "    <tr>\n",
       "      <th>2518</th>\n",
       "      <td>0.0</td>\n",
       "      <td>0.000000</td>\n",
       "      <td>0.0</td>\n",
       "      <td>1.000000</td>\n",
       "      <td>1.000000</td>\n",
       "      <td>0.125788</td>\n",
       "      <td>1</td>\n",
       "      <td>0.142961</td>\n",
       "      <td>1</td>\n",
       "    </tr>\n",
       "    <tr>\n",
       "      <th>34004</th>\n",
       "      <td>0.0</td>\n",
       "      <td>0.000000</td>\n",
       "      <td>0.0</td>\n",
       "      <td>0.500000</td>\n",
       "      <td>1.000000</td>\n",
       "      <td>0.085863</td>\n",
       "      <td>1</td>\n",
       "      <td>0.092642</td>\n",
       "      <td>1</td>\n",
       "    </tr>\n",
       "    <tr>\n",
       "      <th>4503</th>\n",
       "      <td>0.0</td>\n",
       "      <td>0.000000</td>\n",
       "      <td>0.0</td>\n",
       "      <td>1.000000</td>\n",
       "      <td>0.333333</td>\n",
       "      <td>0.050320</td>\n",
       "      <td>1</td>\n",
       "      <td>0.052677</td>\n",
       "      <td>1</td>\n",
       "    </tr>\n",
       "    <tr>\n",
       "      <th>39454</th>\n",
       "      <td>0.0</td>\n",
       "      <td>1.000000</td>\n",
       "      <td>0.0</td>\n",
       "      <td>0.846154</td>\n",
       "      <td>0.153846</td>\n",
       "      <td>0.112451</td>\n",
       "      <td>1</td>\n",
       "      <td>0.130202</td>\n",
       "      <td>1</td>\n",
       "    </tr>\n",
       "    <tr>\n",
       "      <th>34047</th>\n",
       "      <td>0.0</td>\n",
       "      <td>0.000000</td>\n",
       "      <td>0.0</td>\n",
       "      <td>0.500000</td>\n",
       "      <td>1.000000</td>\n",
       "      <td>0.085863</td>\n",
       "      <td>1</td>\n",
       "      <td>0.092642</td>\n",
       "      <td>1</td>\n",
       "    </tr>\n",
       "    <tr>\n",
       "      <th>38238</th>\n",
       "      <td>0.0</td>\n",
       "      <td>1.000000</td>\n",
       "      <td>0.0</td>\n",
       "      <td>1.000000</td>\n",
       "      <td>0.000000</td>\n",
       "      <td>0.097206</td>\n",
       "      <td>1</td>\n",
       "      <td>0.109477</td>\n",
       "      <td>1</td>\n",
       "    </tr>\n",
       "    <tr>\n",
       "      <th>31885</th>\n",
       "      <td>0.0</td>\n",
       "      <td>0.000000</td>\n",
       "      <td>0.0</td>\n",
       "      <td>0.000000</td>\n",
       "      <td>1.000000</td>\n",
       "      <td>0.083857</td>\n",
       "      <td>1</td>\n",
       "      <td>0.086037</td>\n",
       "      <td>1</td>\n",
       "    </tr>\n",
       "    <tr>\n",
       "      <th>30281</th>\n",
       "      <td>1.0</td>\n",
       "      <td>1.000000</td>\n",
       "      <td>0.0</td>\n",
       "      <td>1.000000</td>\n",
       "      <td>1.000000</td>\n",
       "      <td>0.182284</td>\n",
       "      <td>1</td>\n",
       "      <td>0.197577</td>\n",
       "      <td>1</td>\n",
       "    </tr>\n",
       "    <tr>\n",
       "      <th>36905</th>\n",
       "      <td>0.0</td>\n",
       "      <td>1.000000</td>\n",
       "      <td>0.0</td>\n",
       "      <td>1.000000</td>\n",
       "      <td>0.000000</td>\n",
       "      <td>0.097206</td>\n",
       "      <td>1</td>\n",
       "      <td>0.109477</td>\n",
       "      <td>1</td>\n",
       "    </tr>\n",
       "    <tr>\n",
       "      <th>533</th>\n",
       "      <td>0.0</td>\n",
       "      <td>0.000000</td>\n",
       "      <td>0.0</td>\n",
       "      <td>1.000000</td>\n",
       "      <td>1.000000</td>\n",
       "      <td>0.125788</td>\n",
       "      <td>1</td>\n",
       "      <td>0.142961</td>\n",
       "      <td>1</td>\n",
       "    </tr>\n",
       "  </tbody>\n",
       "</table>\n",
       "</div>"
      ],
      "text/plain": [
       "       Flag_Pos_Neg_Mean  Flag_Ratio_of_Unique_Transactions_Mean  \\\n",
       "34069                0.0                                0.000000   \n",
       "8066                 0.0                                0.333333   \n",
       "33158                0.0                                0.000000   \n",
       "22305                0.0                                1.000000   \n",
       "30388                0.0                                0.000000   \n",
       "31040                0.0                                0.000000   \n",
       "9022                 0.0                                0.000000   \n",
       "39651                0.0                                0.000000   \n",
       "32420                0.0                                0.000000   \n",
       "5115                 0.0                                0.000000   \n",
       "2518                 0.0                                0.000000   \n",
       "34004                0.0                                0.000000   \n",
       "4503                 0.0                                0.000000   \n",
       "39454                0.0                                1.000000   \n",
       "34047                0.0                                0.000000   \n",
       "38238                0.0                                1.000000   \n",
       "31885                0.0                                0.000000   \n",
       "30281                1.0                                1.000000   \n",
       "36905                0.0                                1.000000   \n",
       "533                  0.0                                0.000000   \n",
       "\n",
       "       flag_amount_bin  flag_week_amount  flag_month_amount  \\\n",
       "34069              0.0          0.500000           0.500000   \n",
       "8066               0.0          0.000000           0.666667   \n",
       "33158              0.0          1.000000           0.333333   \n",
       "22305              0.0          1.000000           0.000000   \n",
       "30388              0.0          0.000000           0.500000   \n",
       "31040              0.0          1.000000           1.000000   \n",
       "9022               0.0          0.291667           0.500000   \n",
       "39651              0.0          1.000000           1.000000   \n",
       "32420              0.0          0.500000           1.000000   \n",
       "5115               0.0          0.142857           0.714286   \n",
       "2518               0.0          1.000000           1.000000   \n",
       "34004              0.0          0.500000           1.000000   \n",
       "4503               0.0          1.000000           0.333333   \n",
       "39454              0.0          0.846154           0.153846   \n",
       "34047              0.0          0.500000           1.000000   \n",
       "38238              0.0          1.000000           0.000000   \n",
       "31885              0.0          0.000000           1.000000   \n",
       "30281              0.0          1.000000           1.000000   \n",
       "36905              0.0          1.000000           0.000000   \n",
       "533                0.0          1.000000           1.000000   \n",
       "\n",
       "       y_by_average_score  y_by_average_cluster  y_by_maximization_score  \\\n",
       "34069            0.035467                     1                 0.039247   \n",
       "8066             0.090236                     1                 0.103594   \n",
       "33158            0.050320                     1                 0.052677   \n",
       "22305            0.097206                     1                 0.109477   \n",
       "30388            0.003501                     1                 0.013345   \n",
       "31040            0.125788                     1                 0.142961   \n",
       "9022             0.022377                     1                 0.028619   \n",
       "39651            0.125788                     1                 0.142961   \n",
       "32420            0.085863                     1                 0.092642   \n",
       "5115             0.042453                     1                 0.048253   \n",
       "2518             0.125788                     1                 0.142961   \n",
       "34004            0.085863                     1                 0.092642   \n",
       "4503             0.050320                     1                 0.052677   \n",
       "39454            0.112451                     1                 0.130202   \n",
       "34047            0.085863                     1                 0.092642   \n",
       "38238            0.097206                     1                 0.109477   \n",
       "31885            0.083857                     1                 0.086037   \n",
       "30281            0.182284                     1                 0.197577   \n",
       "36905            0.097206                     1                 0.109477   \n",
       "533              0.125788                     1                 0.142961   \n",
       "\n",
       "       y_by_maximization_cluster  \n",
       "34069                          1  \n",
       "8066                           1  \n",
       "33158                          1  \n",
       "22305                          1  \n",
       "30388                          1  \n",
       "31040                          1  \n",
       "9022                           1  \n",
       "39651                          1  \n",
       "32420                          1  \n",
       "5115                           1  \n",
       "2518                           1  \n",
       "34004                          1  \n",
       "4503                           1  \n",
       "39454                          1  \n",
       "34047                          1  \n",
       "38238                          1  \n",
       "31885                          1  \n",
       "30281                          1  \n",
       "36905                          1  \n",
       "533                            1  "
      ]
     },
     "execution_count": 84,
     "metadata": {},
     "output_type": "execute_result"
    }
   ],
   "source": [
    "suspicious = df_test[(df_test['y_by_average_cluster'] == 1) & (df_test['y_by_maximization_cluster'] == 1 )]\n",
    "suspicious.head(20)"
   ]
  },
  {
   "cell_type": "markdown",
   "metadata": {},
   "source": [
    "Now lets compare outliers to non outliers to see if our results make sense."
   ]
  },
  {
   "cell_type": "code",
   "execution_count": 85,
   "metadata": {},
   "outputs": [
    {
     "data": {
      "text/html": [
       "<div>\n",
       "<style scoped>\n",
       "    .dataframe tbody tr th:only-of-type {\n",
       "        vertical-align: middle;\n",
       "    }\n",
       "\n",
       "    .dataframe tbody tr th {\n",
       "        vertical-align: top;\n",
       "    }\n",
       "\n",
       "    .dataframe thead th {\n",
       "        text-align: right;\n",
       "    }\n",
       "</style>\n",
       "<table border=\"1\" class=\"dataframe\">\n",
       "  <thead>\n",
       "    <tr style=\"text-align: right;\">\n",
       "      <th></th>\n",
       "      <th>mean_outliers</th>\n",
       "      <th>mean_non_outliers</th>\n",
       "    </tr>\n",
       "  </thead>\n",
       "  <tbody>\n",
       "    <tr>\n",
       "      <th>Flag_Pos_Neg_Mean</th>\n",
       "      <td>0.012364</td>\n",
       "      <td>0.000781</td>\n",
       "    </tr>\n",
       "    <tr>\n",
       "      <th>Flag_Ratio_of_Unique_Transactions_Mean</th>\n",
       "      <td>0.320399</td>\n",
       "      <td>0.013263</td>\n",
       "    </tr>\n",
       "    <tr>\n",
       "      <th>flag_amount_bin</th>\n",
       "      <td>0.000914</td>\n",
       "      <td>0.000462</td>\n",
       "    </tr>\n",
       "    <tr>\n",
       "      <th>flag_week_amount</th>\n",
       "      <td>0.465304</td>\n",
       "      <td>0.116888</td>\n",
       "    </tr>\n",
       "    <tr>\n",
       "      <th>flag_month_amount</th>\n",
       "      <td>0.531307</td>\n",
       "      <td>0.014484</td>\n",
       "    </tr>\n",
       "    <tr>\n",
       "      <th>y_by_average_score</th>\n",
       "      <td>0.068690</td>\n",
       "      <td>-0.188651</td>\n",
       "    </tr>\n",
       "    <tr>\n",
       "      <th>y_by_maximization_score</th>\n",
       "      <td>0.078447</td>\n",
       "      <td>-0.179362</td>\n",
       "    </tr>\n",
       "  </tbody>\n",
       "</table>\n",
       "</div>"
      ],
      "text/plain": [
       "                                        mean_outliers  mean_non_outliers\n",
       "Flag_Pos_Neg_Mean                            0.012364           0.000781\n",
       "Flag_Ratio_of_Unique_Transactions_Mean       0.320399           0.013263\n",
       "flag_amount_bin                              0.000914           0.000462\n",
       "flag_week_amount                             0.465304           0.116888\n",
       "flag_month_amount                            0.531307           0.014484\n",
       "y_by_average_score                           0.068690          -0.188651\n",
       "y_by_maximization_score                      0.078447          -0.179362"
      ]
     },
     "execution_count": 85,
     "metadata": {},
     "output_type": "execute_result"
    }
   ],
   "source": [
    "non_out = df_test[(df_test['y_by_average_cluster'] == 0) & (df_test['y_by_maximization_cluster'] == 0)]\n",
    "inspect_df = pd.DataFrame({'mean_outliers':suspicious.describe().loc['mean',:],\n",
    "              'mean_non_outliers':non_out.describe().loc['mean',:]})\n",
    "inspect_df.drop(['y_by_average_cluster', 'y_by_maximization_cluster'],inplace=True)\n",
    "inspect_df"
   ]
  },
  {
   "cell_type": "code",
   "execution_count": 86,
   "metadata": {},
   "outputs": [
    {
     "data": {
      "image/png": "[encoded data removed]",
      "text/plain": [
       "<Figure size 720x720 with 1 Axes>"
      ]
     },
     "metadata": {
      "needs_background": "light"
     },
     "output_type": "display_data"
    }
   ],
   "source": [
    "plt.figure(figsize=(10,10))\n",
    "x = list(inspect_df.index)\n",
    "_X = np.arange(len(x))\n",
    "leg = ['Outliers','Non Outliers']\n",
    "\n",
    "plt.barh(_X - 0.2, inspect_df.loc[:,'mean_outliers'], 0.4)\n",
    "plt.barh(_X + 0.2, inspect_df.loc[:,'mean_non_outliers'], 0.4)\n",
    "plt.yticks(_X, x) # set labels manually\n",
    "plt.title('Stats of Suspects vs Entire Set',fontsize=20)\n",
    "plt.legend(leg,loc=(1.04,0.8))\n",
    "plt.show()\n"
   ]
  },
  {
   "cell_type": "markdown",
   "metadata": {},
   "source": [
    "## Conclusion\n",
    "\n",
    "The enormous gap between outliers and non-outliers show then that the algorithm was able to do its work properly and that these observations are the most likely to contain anomalies. As with any real-world data, this is an unlabeled and unsupervised technique that needs more in-depth investigation and understanding to provide a definite conclusion. However, if the goal is to create a barrier to stop unusual behavior using an isolation forest algorithm is a very useful and efficient way of doing, proven by the results produced in this exercise."
   ]
  }
 ],
 "metadata": {
  "kernelspec": {
   "display_name": "Python 3",
   "language": "python",
   "name": "python3"
  },
  "language_info": {
   "codemirror_mode": {
    "name": "ipython",
    "version": 3
   },
   "file_extension": ".py",
   "mimetype": "text/x-python",
   "name": "python",
   "nbconvert_exporter": "python",
   "pygments_lexer": "ipython3",
   "version": "3.6.8"
  },
  "pycharm": {
   "stem_cell": {
    "cell_type": "raw",
    "metadata": {
     "collapsed": false
    },
    "source": []
   }
  }
 },
 "nbformat": 4,
 "nbformat_minor": 1
}
